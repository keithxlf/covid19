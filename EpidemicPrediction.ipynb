{
 "cells": [
  {
   "cell_type": "markdown",
   "metadata": {
    "id": "A52FFCBC72574DFCAA9A7FA3DE547C9B",
    "jupyter": {},
    "notebookId": "63b2cc49c634be74592b81d2",
    "scrolled": false,
    "slideshow": {
     "slide_type": "slide"
    },
    "tags": []
   },
   "source": [
    "# 机器学习作业 流感和新冠数据预测"
   ]
  },
  {
   "cell_type": "markdown",
   "metadata": {
    "id": "CC4A95EE97BF4987AE5F9B1CD1FC1BB2",
    "jupyter": {},
    "notebookId": "63b2cc49c634be74592b81d2",
    "scrolled": false,
    "slideshow": {
     "slide_type": "slide"
    },
    "tags": []
   },
   "source": [
    "## 流感数据 "
   ]
  },
  {
   "cell_type": "code",
   "execution_count": 45,
   "metadata": {
    "id": "E4BA521F1F48451BA8039CC41C4D882F",
    "jupyter": {},
    "notebookId": "63b2cc49c634be74592b81d2",
    "scrolled": false,
    "slideshow": {
     "slide_type": "slide"
    },
    "tags": []
   },
   "outputs": [],
   "source": [
    "import pandas as pd\n",
    "import matplotlib.pyplot as plt\n",
    "from scipy.integrate import odeint\n",
    "from scipy import optimize\n",
    "import warnings\n",
    "warnings.filterwarnings(\"ignore\")\n",
    "\n",
    "#读取ILI数据#流感数据\n",
    "\n",
    "ilinet_full = pd.DataFrame(pd.read_csv('/ILINet.csv'))\n",
    "ilinet_full_seasons =ilinet_full[0:1305] #舍弃最后一个不完全周期，这样数据全是完整的周期\n",
    "data = ilinet_full_seasons['ILITOTAL'].values\n",
    "weeks = ilinet_full_seasons['WEEK'].values[0:52]\n"
   ]
  },
  {
   "cell_type": "code",
   "execution_count": 46,
   "metadata": {
    "id": "CF1E96B82D444B9D92FB8D797A206930",
    "jupyter": {},
    "notebookId": "63b2cc49c634be74592b81d2",
    "scrolled": false,
    "slideshow": {
     "slide_type": "slide"
    },
    "tags": []
   },
   "outputs": [],
   "source": [
    "\n",
    "import numpy as np\n",
    "end_weeks=ilinet_full_seasons.index[ilinet_full_seasons['WEEK'] == 39].tolist()\n",
    "start_weeks=ilinet_full_seasons.index[ilinet_full_seasons['WEEK'] == 40].tolist()\n",
    "\n",
    "seasons=[]\n",
    "for i in range(len(start_weeks)):\n",
    "    c=start_weeks[i]\n",
    "    seasons.append(data[c:c+52]) #有的年份53周，有的年份52周，我们每年都只取52周，保证数据格式一样\n",
    "    \n",
    "seasons=np.vstack(seasons)"
   ]
  },
  {
   "cell_type": "markdown",
   "metadata": {
    "id": "0CB190E77E1544CA87B80BFBB2952FE3",
    "jupyter": {},
    "notebookId": "63b2cc49c634be74592b81d2",
    "scrolled": false,
    "slideshow": {
     "slide_type": "slide"
    },
    "tags": []
   },
   "source": [
    "## 新冠数据\n"
   ]
  },
  {
   "cell_type": "code",
   "execution_count": 47,
   "metadata": {
    "id": "42F4C5BA24854F51865AC38B1F36EC88",
    "jupyter": {},
    "notebookId": "63b2cc49c634be74592b81d2",
    "scrolled": false,
    "slideshow": {
     "slide_type": "slide"
    },
    "tags": []
   },
   "outputs": [
    {
     "data": {
      "text/html": [
       "<div>\n",
       "<style scoped>\n",
       "    .dataframe tbody tr th:only-of-type {\n",
       "        vertical-align: middle;\n",
       "    }\n",
       "\n",
       "    .dataframe tbody tr th {\n",
       "        vertical-align: top;\n",
       "    }\n",
       "\n",
       "    .dataframe thead th {\n",
       "        text-align: right;\n",
       "    }\n",
       "</style>\n",
       "<table border=\"1\" class=\"dataframe\">\n",
       "  <thead>\n",
       "    <tr style=\"text-align: right;\">\n",
       "      <th></th>\n",
       "      <th>Id</th>\n",
       "      <th>County</th>\n",
       "      <th>Province_State</th>\n",
       "      <th>Country_Region</th>\n",
       "      <th>Population</th>\n",
       "      <th>Weight</th>\n",
       "      <th>Date</th>\n",
       "      <th>Target</th>\n",
       "      <th>TargetValue</th>\n",
       "    </tr>\n",
       "  </thead>\n",
       "  <tbody>\n",
       "    <tr>\n",
       "      <th>0</th>\n",
       "      <td>1</td>\n",
       "      <td>NaN</td>\n",
       "      <td>NaN</td>\n",
       "      <td>Afghanistan</td>\n",
       "      <td>27657145</td>\n",
       "      <td>0.058359</td>\n",
       "      <td>2020-01-23</td>\n",
       "      <td>ConfirmedCases</td>\n",
       "      <td>0</td>\n",
       "    </tr>\n",
       "    <tr>\n",
       "      <th>1</th>\n",
       "      <td>2</td>\n",
       "      <td>NaN</td>\n",
       "      <td>NaN</td>\n",
       "      <td>Afghanistan</td>\n",
       "      <td>27657145</td>\n",
       "      <td>0.583587</td>\n",
       "      <td>2020-01-23</td>\n",
       "      <td>Fatalities</td>\n",
       "      <td>0</td>\n",
       "    </tr>\n",
       "    <tr>\n",
       "      <th>2</th>\n",
       "      <td>3</td>\n",
       "      <td>NaN</td>\n",
       "      <td>NaN</td>\n",
       "      <td>Afghanistan</td>\n",
       "      <td>27657145</td>\n",
       "      <td>0.058359</td>\n",
       "      <td>2020-01-24</td>\n",
       "      <td>ConfirmedCases</td>\n",
       "      <td>0</td>\n",
       "    </tr>\n",
       "    <tr>\n",
       "      <th>3</th>\n",
       "      <td>4</td>\n",
       "      <td>NaN</td>\n",
       "      <td>NaN</td>\n",
       "      <td>Afghanistan</td>\n",
       "      <td>27657145</td>\n",
       "      <td>0.583587</td>\n",
       "      <td>2020-01-24</td>\n",
       "      <td>Fatalities</td>\n",
       "      <td>0</td>\n",
       "    </tr>\n",
       "    <tr>\n",
       "      <th>4</th>\n",
       "      <td>5</td>\n",
       "      <td>NaN</td>\n",
       "      <td>NaN</td>\n",
       "      <td>Afghanistan</td>\n",
       "      <td>27657145</td>\n",
       "      <td>0.058359</td>\n",
       "      <td>2020-01-25</td>\n",
       "      <td>ConfirmedCases</td>\n",
       "      <td>0</td>\n",
       "    </tr>\n",
       "    <tr>\n",
       "      <th>5</th>\n",
       "      <td>6</td>\n",
       "      <td>NaN</td>\n",
       "      <td>NaN</td>\n",
       "      <td>Afghanistan</td>\n",
       "      <td>27657145</td>\n",
       "      <td>0.583587</td>\n",
       "      <td>2020-01-25</td>\n",
       "      <td>Fatalities</td>\n",
       "      <td>0</td>\n",
       "    </tr>\n",
       "    <tr>\n",
       "      <th>6</th>\n",
       "      <td>7</td>\n",
       "      <td>NaN</td>\n",
       "      <td>NaN</td>\n",
       "      <td>Afghanistan</td>\n",
       "      <td>27657145</td>\n",
       "      <td>0.058359</td>\n",
       "      <td>2020-01-26</td>\n",
       "      <td>ConfirmedCases</td>\n",
       "      <td>0</td>\n",
       "    </tr>\n",
       "    <tr>\n",
       "      <th>7</th>\n",
       "      <td>8</td>\n",
       "      <td>NaN</td>\n",
       "      <td>NaN</td>\n",
       "      <td>Afghanistan</td>\n",
       "      <td>27657145</td>\n",
       "      <td>0.583587</td>\n",
       "      <td>2020-01-26</td>\n",
       "      <td>Fatalities</td>\n",
       "      <td>0</td>\n",
       "    </tr>\n",
       "    <tr>\n",
       "      <th>8</th>\n",
       "      <td>9</td>\n",
       "      <td>NaN</td>\n",
       "      <td>NaN</td>\n",
       "      <td>Afghanistan</td>\n",
       "      <td>27657145</td>\n",
       "      <td>0.058359</td>\n",
       "      <td>2020-01-27</td>\n",
       "      <td>ConfirmedCases</td>\n",
       "      <td>0</td>\n",
       "    </tr>\n",
       "    <tr>\n",
       "      <th>9</th>\n",
       "      <td>10</td>\n",
       "      <td>NaN</td>\n",
       "      <td>NaN</td>\n",
       "      <td>Afghanistan</td>\n",
       "      <td>27657145</td>\n",
       "      <td>0.583587</td>\n",
       "      <td>2020-01-27</td>\n",
       "      <td>Fatalities</td>\n",
       "      <td>0</td>\n",
       "    </tr>\n",
       "    <tr>\n",
       "      <th>10</th>\n",
       "      <td>11</td>\n",
       "      <td>NaN</td>\n",
       "      <td>NaN</td>\n",
       "      <td>Afghanistan</td>\n",
       "      <td>27657145</td>\n",
       "      <td>0.058359</td>\n",
       "      <td>2020-01-28</td>\n",
       "      <td>ConfirmedCases</td>\n",
       "      <td>0</td>\n",
       "    </tr>\n",
       "    <tr>\n",
       "      <th>11</th>\n",
       "      <td>12</td>\n",
       "      <td>NaN</td>\n",
       "      <td>NaN</td>\n",
       "      <td>Afghanistan</td>\n",
       "      <td>27657145</td>\n",
       "      <td>0.583587</td>\n",
       "      <td>2020-01-28</td>\n",
       "      <td>Fatalities</td>\n",
       "      <td>0</td>\n",
       "    </tr>\n",
       "    <tr>\n",
       "      <th>12</th>\n",
       "      <td>13</td>\n",
       "      <td>NaN</td>\n",
       "      <td>NaN</td>\n",
       "      <td>Afghanistan</td>\n",
       "      <td>27657145</td>\n",
       "      <td>0.058359</td>\n",
       "      <td>2020-01-29</td>\n",
       "      <td>ConfirmedCases</td>\n",
       "      <td>0</td>\n",
       "    </tr>\n",
       "    <tr>\n",
       "      <th>13</th>\n",
       "      <td>14</td>\n",
       "      <td>NaN</td>\n",
       "      <td>NaN</td>\n",
       "      <td>Afghanistan</td>\n",
       "      <td>27657145</td>\n",
       "      <td>0.583587</td>\n",
       "      <td>2020-01-29</td>\n",
       "      <td>Fatalities</td>\n",
       "      <td>0</td>\n",
       "    </tr>\n",
       "    <tr>\n",
       "      <th>14</th>\n",
       "      <td>15</td>\n",
       "      <td>NaN</td>\n",
       "      <td>NaN</td>\n",
       "      <td>Afghanistan</td>\n",
       "      <td>27657145</td>\n",
       "      <td>0.058359</td>\n",
       "      <td>2020-01-30</td>\n",
       "      <td>ConfirmedCases</td>\n",
       "      <td>0</td>\n",
       "    </tr>\n",
       "    <tr>\n",
       "      <th>15</th>\n",
       "      <td>16</td>\n",
       "      <td>NaN</td>\n",
       "      <td>NaN</td>\n",
       "      <td>Afghanistan</td>\n",
       "      <td>27657145</td>\n",
       "      <td>0.583587</td>\n",
       "      <td>2020-01-30</td>\n",
       "      <td>Fatalities</td>\n",
       "      <td>0</td>\n",
       "    </tr>\n",
       "    <tr>\n",
       "      <th>16</th>\n",
       "      <td>17</td>\n",
       "      <td>NaN</td>\n",
       "      <td>NaN</td>\n",
       "      <td>Afghanistan</td>\n",
       "      <td>27657145</td>\n",
       "      <td>0.058359</td>\n",
       "      <td>2020-01-31</td>\n",
       "      <td>ConfirmedCases</td>\n",
       "      <td>0</td>\n",
       "    </tr>\n",
       "    <tr>\n",
       "      <th>17</th>\n",
       "      <td>18</td>\n",
       "      <td>NaN</td>\n",
       "      <td>NaN</td>\n",
       "      <td>Afghanistan</td>\n",
       "      <td>27657145</td>\n",
       "      <td>0.583587</td>\n",
       "      <td>2020-01-31</td>\n",
       "      <td>Fatalities</td>\n",
       "      <td>0</td>\n",
       "    </tr>\n",
       "    <tr>\n",
       "      <th>18</th>\n",
       "      <td>19</td>\n",
       "      <td>NaN</td>\n",
       "      <td>NaN</td>\n",
       "      <td>Afghanistan</td>\n",
       "      <td>27657145</td>\n",
       "      <td>0.058359</td>\n",
       "      <td>2020-02-01</td>\n",
       "      <td>ConfirmedCases</td>\n",
       "      <td>0</td>\n",
       "    </tr>\n",
       "    <tr>\n",
       "      <th>19</th>\n",
       "      <td>20</td>\n",
       "      <td>NaN</td>\n",
       "      <td>NaN</td>\n",
       "      <td>Afghanistan</td>\n",
       "      <td>27657145</td>\n",
       "      <td>0.583587</td>\n",
       "      <td>2020-02-01</td>\n",
       "      <td>Fatalities</td>\n",
       "      <td>0</td>\n",
       "    </tr>\n",
       "    <tr>\n",
       "      <th>20</th>\n",
       "      <td>21</td>\n",
       "      <td>NaN</td>\n",
       "      <td>NaN</td>\n",
       "      <td>Afghanistan</td>\n",
       "      <td>27657145</td>\n",
       "      <td>0.058359</td>\n",
       "      <td>2020-02-02</td>\n",
       "      <td>ConfirmedCases</td>\n",
       "      <td>0</td>\n",
       "    </tr>\n",
       "    <tr>\n",
       "      <th>21</th>\n",
       "      <td>22</td>\n",
       "      <td>NaN</td>\n",
       "      <td>NaN</td>\n",
       "      <td>Afghanistan</td>\n",
       "      <td>27657145</td>\n",
       "      <td>0.583587</td>\n",
       "      <td>2020-02-02</td>\n",
       "      <td>Fatalities</td>\n",
       "      <td>0</td>\n",
       "    </tr>\n",
       "    <tr>\n",
       "      <th>22</th>\n",
       "      <td>23</td>\n",
       "      <td>NaN</td>\n",
       "      <td>NaN</td>\n",
       "      <td>Afghanistan</td>\n",
       "      <td>27657145</td>\n",
       "      <td>0.058359</td>\n",
       "      <td>2020-02-03</td>\n",
       "      <td>ConfirmedCases</td>\n",
       "      <td>0</td>\n",
       "    </tr>\n",
       "    <tr>\n",
       "      <th>23</th>\n",
       "      <td>24</td>\n",
       "      <td>NaN</td>\n",
       "      <td>NaN</td>\n",
       "      <td>Afghanistan</td>\n",
       "      <td>27657145</td>\n",
       "      <td>0.583587</td>\n",
       "      <td>2020-02-03</td>\n",
       "      <td>Fatalities</td>\n",
       "      <td>0</td>\n",
       "    </tr>\n",
       "    <tr>\n",
       "      <th>24</th>\n",
       "      <td>25</td>\n",
       "      <td>NaN</td>\n",
       "      <td>NaN</td>\n",
       "      <td>Afghanistan</td>\n",
       "      <td>27657145</td>\n",
       "      <td>0.058359</td>\n",
       "      <td>2020-02-04</td>\n",
       "      <td>ConfirmedCases</td>\n",
       "      <td>0</td>\n",
       "    </tr>\n",
       "    <tr>\n",
       "      <th>25</th>\n",
       "      <td>26</td>\n",
       "      <td>NaN</td>\n",
       "      <td>NaN</td>\n",
       "      <td>Afghanistan</td>\n",
       "      <td>27657145</td>\n",
       "      <td>0.583587</td>\n",
       "      <td>2020-02-04</td>\n",
       "      <td>Fatalities</td>\n",
       "      <td>0</td>\n",
       "    </tr>\n",
       "    <tr>\n",
       "      <th>26</th>\n",
       "      <td>27</td>\n",
       "      <td>NaN</td>\n",
       "      <td>NaN</td>\n",
       "      <td>Afghanistan</td>\n",
       "      <td>27657145</td>\n",
       "      <td>0.058359</td>\n",
       "      <td>2020-02-05</td>\n",
       "      <td>ConfirmedCases</td>\n",
       "      <td>0</td>\n",
       "    </tr>\n",
       "    <tr>\n",
       "      <th>27</th>\n",
       "      <td>28</td>\n",
       "      <td>NaN</td>\n",
       "      <td>NaN</td>\n",
       "      <td>Afghanistan</td>\n",
       "      <td>27657145</td>\n",
       "      <td>0.583587</td>\n",
       "      <td>2020-02-05</td>\n",
       "      <td>Fatalities</td>\n",
       "      <td>0</td>\n",
       "    </tr>\n",
       "    <tr>\n",
       "      <th>28</th>\n",
       "      <td>29</td>\n",
       "      <td>NaN</td>\n",
       "      <td>NaN</td>\n",
       "      <td>Afghanistan</td>\n",
       "      <td>27657145</td>\n",
       "      <td>0.058359</td>\n",
       "      <td>2020-02-06</td>\n",
       "      <td>ConfirmedCases</td>\n",
       "      <td>0</td>\n",
       "    </tr>\n",
       "    <tr>\n",
       "      <th>29</th>\n",
       "      <td>30</td>\n",
       "      <td>NaN</td>\n",
       "      <td>NaN</td>\n",
       "      <td>Afghanistan</td>\n",
       "      <td>27657145</td>\n",
       "      <td>0.583587</td>\n",
       "      <td>2020-02-06</td>\n",
       "      <td>Fatalities</td>\n",
       "      <td>0</td>\n",
       "    </tr>\n",
       "    <tr>\n",
       "      <th>...</th>\n",
       "      <td>...</td>\n",
       "      <td>...</td>\n",
       "      <td>...</td>\n",
       "      <td>...</td>\n",
       "      <td>...</td>\n",
       "      <td>...</td>\n",
       "      <td>...</td>\n",
       "      <td>...</td>\n",
       "      <td>...</td>\n",
       "    </tr>\n",
       "    <tr>\n",
       "      <th>969610</th>\n",
       "      <td>969611</td>\n",
       "      <td>NaN</td>\n",
       "      <td>NaN</td>\n",
       "      <td>Zimbabwe</td>\n",
       "      <td>14240168</td>\n",
       "      <td>0.060711</td>\n",
       "      <td>2020-05-27</td>\n",
       "      <td>ConfirmedCases</td>\n",
       "      <td>76</td>\n",
       "    </tr>\n",
       "    <tr>\n",
       "      <th>969611</th>\n",
       "      <td>969612</td>\n",
       "      <td>NaN</td>\n",
       "      <td>NaN</td>\n",
       "      <td>Zimbabwe</td>\n",
       "      <td>14240168</td>\n",
       "      <td>0.607106</td>\n",
       "      <td>2020-05-27</td>\n",
       "      <td>Fatalities</td>\n",
       "      <td>0</td>\n",
       "    </tr>\n",
       "    <tr>\n",
       "      <th>969612</th>\n",
       "      <td>969613</td>\n",
       "      <td>NaN</td>\n",
       "      <td>NaN</td>\n",
       "      <td>Zimbabwe</td>\n",
       "      <td>14240168</td>\n",
       "      <td>0.060711</td>\n",
       "      <td>2020-05-28</td>\n",
       "      <td>ConfirmedCases</td>\n",
       "      <td>17</td>\n",
       "    </tr>\n",
       "    <tr>\n",
       "      <th>969613</th>\n",
       "      <td>969614</td>\n",
       "      <td>NaN</td>\n",
       "      <td>NaN</td>\n",
       "      <td>Zimbabwe</td>\n",
       "      <td>14240168</td>\n",
       "      <td>0.607106</td>\n",
       "      <td>2020-05-28</td>\n",
       "      <td>Fatalities</td>\n",
       "      <td>0</td>\n",
       "    </tr>\n",
       "    <tr>\n",
       "      <th>969614</th>\n",
       "      <td>969615</td>\n",
       "      <td>NaN</td>\n",
       "      <td>NaN</td>\n",
       "      <td>Zimbabwe</td>\n",
       "      <td>14240168</td>\n",
       "      <td>0.060711</td>\n",
       "      <td>2020-05-29</td>\n",
       "      <td>ConfirmedCases</td>\n",
       "      <td>0</td>\n",
       "    </tr>\n",
       "    <tr>\n",
       "      <th>969615</th>\n",
       "      <td>969616</td>\n",
       "      <td>NaN</td>\n",
       "      <td>NaN</td>\n",
       "      <td>Zimbabwe</td>\n",
       "      <td>14240168</td>\n",
       "      <td>0.607106</td>\n",
       "      <td>2020-05-29</td>\n",
       "      <td>Fatalities</td>\n",
       "      <td>0</td>\n",
       "    </tr>\n",
       "    <tr>\n",
       "      <th>969616</th>\n",
       "      <td>969617</td>\n",
       "      <td>NaN</td>\n",
       "      <td>NaN</td>\n",
       "      <td>Zimbabwe</td>\n",
       "      <td>14240168</td>\n",
       "      <td>0.060711</td>\n",
       "      <td>2020-05-30</td>\n",
       "      <td>ConfirmedCases</td>\n",
       "      <td>25</td>\n",
       "    </tr>\n",
       "    <tr>\n",
       "      <th>969617</th>\n",
       "      <td>969618</td>\n",
       "      <td>NaN</td>\n",
       "      <td>NaN</td>\n",
       "      <td>Zimbabwe</td>\n",
       "      <td>14240168</td>\n",
       "      <td>0.607106</td>\n",
       "      <td>2020-05-30</td>\n",
       "      <td>Fatalities</td>\n",
       "      <td>0</td>\n",
       "    </tr>\n",
       "    <tr>\n",
       "      <th>969618</th>\n",
       "      <td>969619</td>\n",
       "      <td>NaN</td>\n",
       "      <td>NaN</td>\n",
       "      <td>Zimbabwe</td>\n",
       "      <td>14240168</td>\n",
       "      <td>0.060711</td>\n",
       "      <td>2020-05-31</td>\n",
       "      <td>ConfirmedCases</td>\n",
       "      <td>4</td>\n",
       "    </tr>\n",
       "    <tr>\n",
       "      <th>969619</th>\n",
       "      <td>969620</td>\n",
       "      <td>NaN</td>\n",
       "      <td>NaN</td>\n",
       "      <td>Zimbabwe</td>\n",
       "      <td>14240168</td>\n",
       "      <td>0.607106</td>\n",
       "      <td>2020-05-31</td>\n",
       "      <td>Fatalities</td>\n",
       "      <td>0</td>\n",
       "    </tr>\n",
       "    <tr>\n",
       "      <th>969620</th>\n",
       "      <td>969621</td>\n",
       "      <td>NaN</td>\n",
       "      <td>NaN</td>\n",
       "      <td>Zimbabwe</td>\n",
       "      <td>14240168</td>\n",
       "      <td>0.060711</td>\n",
       "      <td>2020-06-01</td>\n",
       "      <td>ConfirmedCases</td>\n",
       "      <td>25</td>\n",
       "    </tr>\n",
       "    <tr>\n",
       "      <th>969621</th>\n",
       "      <td>969622</td>\n",
       "      <td>NaN</td>\n",
       "      <td>NaN</td>\n",
       "      <td>Zimbabwe</td>\n",
       "      <td>14240168</td>\n",
       "      <td>0.607106</td>\n",
       "      <td>2020-06-01</td>\n",
       "      <td>Fatalities</td>\n",
       "      <td>0</td>\n",
       "    </tr>\n",
       "    <tr>\n",
       "      <th>969622</th>\n",
       "      <td>969623</td>\n",
       "      <td>NaN</td>\n",
       "      <td>NaN</td>\n",
       "      <td>Zimbabwe</td>\n",
       "      <td>14240168</td>\n",
       "      <td>0.060711</td>\n",
       "      <td>2020-06-02</td>\n",
       "      <td>ConfirmedCases</td>\n",
       "      <td>3</td>\n",
       "    </tr>\n",
       "    <tr>\n",
       "      <th>969623</th>\n",
       "      <td>969624</td>\n",
       "      <td>NaN</td>\n",
       "      <td>NaN</td>\n",
       "      <td>Zimbabwe</td>\n",
       "      <td>14240168</td>\n",
       "      <td>0.607106</td>\n",
       "      <td>2020-06-02</td>\n",
       "      <td>Fatalities</td>\n",
       "      <td>0</td>\n",
       "    </tr>\n",
       "    <tr>\n",
       "      <th>969624</th>\n",
       "      <td>969625</td>\n",
       "      <td>NaN</td>\n",
       "      <td>NaN</td>\n",
       "      <td>Zimbabwe</td>\n",
       "      <td>14240168</td>\n",
       "      <td>0.060711</td>\n",
       "      <td>2020-06-03</td>\n",
       "      <td>ConfirmedCases</td>\n",
       "      <td>16</td>\n",
       "    </tr>\n",
       "    <tr>\n",
       "      <th>969625</th>\n",
       "      <td>969626</td>\n",
       "      <td>NaN</td>\n",
       "      <td>NaN</td>\n",
       "      <td>Zimbabwe</td>\n",
       "      <td>14240168</td>\n",
       "      <td>0.607106</td>\n",
       "      <td>2020-06-03</td>\n",
       "      <td>Fatalities</td>\n",
       "      <td>0</td>\n",
       "    </tr>\n",
       "    <tr>\n",
       "      <th>969626</th>\n",
       "      <td>969627</td>\n",
       "      <td>NaN</td>\n",
       "      <td>NaN</td>\n",
       "      <td>Zimbabwe</td>\n",
       "      <td>14240168</td>\n",
       "      <td>0.060711</td>\n",
       "      <td>2020-06-04</td>\n",
       "      <td>ConfirmedCases</td>\n",
       "      <td>15</td>\n",
       "    </tr>\n",
       "    <tr>\n",
       "      <th>969627</th>\n",
       "      <td>969628</td>\n",
       "      <td>NaN</td>\n",
       "      <td>NaN</td>\n",
       "      <td>Zimbabwe</td>\n",
       "      <td>14240168</td>\n",
       "      <td>0.607106</td>\n",
       "      <td>2020-06-04</td>\n",
       "      <td>Fatalities</td>\n",
       "      <td>0</td>\n",
       "    </tr>\n",
       "    <tr>\n",
       "      <th>969628</th>\n",
       "      <td>969629</td>\n",
       "      <td>NaN</td>\n",
       "      <td>NaN</td>\n",
       "      <td>Zimbabwe</td>\n",
       "      <td>14240168</td>\n",
       "      <td>0.060711</td>\n",
       "      <td>2020-06-05</td>\n",
       "      <td>ConfirmedCases</td>\n",
       "      <td>28</td>\n",
       "    </tr>\n",
       "    <tr>\n",
       "      <th>969629</th>\n",
       "      <td>969630</td>\n",
       "      <td>NaN</td>\n",
       "      <td>NaN</td>\n",
       "      <td>Zimbabwe</td>\n",
       "      <td>14240168</td>\n",
       "      <td>0.607106</td>\n",
       "      <td>2020-06-05</td>\n",
       "      <td>Fatalities</td>\n",
       "      <td>0</td>\n",
       "    </tr>\n",
       "    <tr>\n",
       "      <th>969630</th>\n",
       "      <td>969631</td>\n",
       "      <td>NaN</td>\n",
       "      <td>NaN</td>\n",
       "      <td>Zimbabwe</td>\n",
       "      <td>14240168</td>\n",
       "      <td>0.060711</td>\n",
       "      <td>2020-06-06</td>\n",
       "      <td>ConfirmedCases</td>\n",
       "      <td>14</td>\n",
       "    </tr>\n",
       "    <tr>\n",
       "      <th>969631</th>\n",
       "      <td>969632</td>\n",
       "      <td>NaN</td>\n",
       "      <td>NaN</td>\n",
       "      <td>Zimbabwe</td>\n",
       "      <td>14240168</td>\n",
       "      <td>0.607106</td>\n",
       "      <td>2020-06-06</td>\n",
       "      <td>Fatalities</td>\n",
       "      <td>0</td>\n",
       "    </tr>\n",
       "    <tr>\n",
       "      <th>969632</th>\n",
       "      <td>969633</td>\n",
       "      <td>NaN</td>\n",
       "      <td>NaN</td>\n",
       "      <td>Zimbabwe</td>\n",
       "      <td>14240168</td>\n",
       "      <td>0.060711</td>\n",
       "      <td>2020-06-07</td>\n",
       "      <td>ConfirmedCases</td>\n",
       "      <td>3</td>\n",
       "    </tr>\n",
       "    <tr>\n",
       "      <th>969633</th>\n",
       "      <td>969634</td>\n",
       "      <td>NaN</td>\n",
       "      <td>NaN</td>\n",
       "      <td>Zimbabwe</td>\n",
       "      <td>14240168</td>\n",
       "      <td>0.607106</td>\n",
       "      <td>2020-06-07</td>\n",
       "      <td>Fatalities</td>\n",
       "      <td>0</td>\n",
       "    </tr>\n",
       "    <tr>\n",
       "      <th>969634</th>\n",
       "      <td>969635</td>\n",
       "      <td>NaN</td>\n",
       "      <td>NaN</td>\n",
       "      <td>Zimbabwe</td>\n",
       "      <td>14240168</td>\n",
       "      <td>0.060711</td>\n",
       "      <td>2020-06-08</td>\n",
       "      <td>ConfirmedCases</td>\n",
       "      <td>5</td>\n",
       "    </tr>\n",
       "    <tr>\n",
       "      <th>969635</th>\n",
       "      <td>969636</td>\n",
       "      <td>NaN</td>\n",
       "      <td>NaN</td>\n",
       "      <td>Zimbabwe</td>\n",
       "      <td>14240168</td>\n",
       "      <td>0.607106</td>\n",
       "      <td>2020-06-08</td>\n",
       "      <td>Fatalities</td>\n",
       "      <td>0</td>\n",
       "    </tr>\n",
       "    <tr>\n",
       "      <th>969636</th>\n",
       "      <td>969637</td>\n",
       "      <td>NaN</td>\n",
       "      <td>NaN</td>\n",
       "      <td>Zimbabwe</td>\n",
       "      <td>14240168</td>\n",
       "      <td>0.060711</td>\n",
       "      <td>2020-06-09</td>\n",
       "      <td>ConfirmedCases</td>\n",
       "      <td>27</td>\n",
       "    </tr>\n",
       "    <tr>\n",
       "      <th>969637</th>\n",
       "      <td>969638</td>\n",
       "      <td>NaN</td>\n",
       "      <td>NaN</td>\n",
       "      <td>Zimbabwe</td>\n",
       "      <td>14240168</td>\n",
       "      <td>0.607106</td>\n",
       "      <td>2020-06-09</td>\n",
       "      <td>Fatalities</td>\n",
       "      <td>0</td>\n",
       "    </tr>\n",
       "    <tr>\n",
       "      <th>969638</th>\n",
       "      <td>969639</td>\n",
       "      <td>NaN</td>\n",
       "      <td>NaN</td>\n",
       "      <td>Zimbabwe</td>\n",
       "      <td>14240168</td>\n",
       "      <td>0.060711</td>\n",
       "      <td>2020-06-10</td>\n",
       "      <td>ConfirmedCases</td>\n",
       "      <td>6</td>\n",
       "    </tr>\n",
       "    <tr>\n",
       "      <th>969639</th>\n",
       "      <td>969640</td>\n",
       "      <td>NaN</td>\n",
       "      <td>NaN</td>\n",
       "      <td>Zimbabwe</td>\n",
       "      <td>14240168</td>\n",
       "      <td>0.607106</td>\n",
       "      <td>2020-06-10</td>\n",
       "      <td>Fatalities</td>\n",
       "      <td>0</td>\n",
       "    </tr>\n",
       "  </tbody>\n",
       "</table>\n",
       "<p>969640 rows × 9 columns</p>\n",
       "</div>"
      ],
      "text/plain": [
       "            Id County Province_State Country_Region  Population    Weight  \\\n",
       "0            1    NaN            NaN    Afghanistan    27657145  0.058359   \n",
       "1            2    NaN            NaN    Afghanistan    27657145  0.583587   \n",
       "2            3    NaN            NaN    Afghanistan    27657145  0.058359   \n",
       "3            4    NaN            NaN    Afghanistan    27657145  0.583587   \n",
       "4            5    NaN            NaN    Afghanistan    27657145  0.058359   \n",
       "5            6    NaN            NaN    Afghanistan    27657145  0.583587   \n",
       "6            7    NaN            NaN    Afghanistan    27657145  0.058359   \n",
       "7            8    NaN            NaN    Afghanistan    27657145  0.583587   \n",
       "8            9    NaN            NaN    Afghanistan    27657145  0.058359   \n",
       "9           10    NaN            NaN    Afghanistan    27657145  0.583587   \n",
       "10          11    NaN            NaN    Afghanistan    27657145  0.058359   \n",
       "11          12    NaN            NaN    Afghanistan    27657145  0.583587   \n",
       "12          13    NaN            NaN    Afghanistan    27657145  0.058359   \n",
       "13          14    NaN            NaN    Afghanistan    27657145  0.583587   \n",
       "14          15    NaN            NaN    Afghanistan    27657145  0.058359   \n",
       "15          16    NaN            NaN    Afghanistan    27657145  0.583587   \n",
       "16          17    NaN            NaN    Afghanistan    27657145  0.058359   \n",
       "17          18    NaN            NaN    Afghanistan    27657145  0.583587   \n",
       "18          19    NaN            NaN    Afghanistan    27657145  0.058359   \n",
       "19          20    NaN            NaN    Afghanistan    27657145  0.583587   \n",
       "20          21    NaN            NaN    Afghanistan    27657145  0.058359   \n",
       "21          22    NaN            NaN    Afghanistan    27657145  0.583587   \n",
       "22          23    NaN            NaN    Afghanistan    27657145  0.058359   \n",
       "23          24    NaN            NaN    Afghanistan    27657145  0.583587   \n",
       "24          25    NaN            NaN    Afghanistan    27657145  0.058359   \n",
       "25          26    NaN            NaN    Afghanistan    27657145  0.583587   \n",
       "26          27    NaN            NaN    Afghanistan    27657145  0.058359   \n",
       "27          28    NaN            NaN    Afghanistan    27657145  0.583587   \n",
       "28          29    NaN            NaN    Afghanistan    27657145  0.058359   \n",
       "29          30    NaN            NaN    Afghanistan    27657145  0.583587   \n",
       "...        ...    ...            ...            ...         ...       ...   \n",
       "969610  969611    NaN            NaN       Zimbabwe    14240168  0.060711   \n",
       "969611  969612    NaN            NaN       Zimbabwe    14240168  0.607106   \n",
       "969612  969613    NaN            NaN       Zimbabwe    14240168  0.060711   \n",
       "969613  969614    NaN            NaN       Zimbabwe    14240168  0.607106   \n",
       "969614  969615    NaN            NaN       Zimbabwe    14240168  0.060711   \n",
       "969615  969616    NaN            NaN       Zimbabwe    14240168  0.607106   \n",
       "969616  969617    NaN            NaN       Zimbabwe    14240168  0.060711   \n",
       "969617  969618    NaN            NaN       Zimbabwe    14240168  0.607106   \n",
       "969618  969619    NaN            NaN       Zimbabwe    14240168  0.060711   \n",
       "969619  969620    NaN            NaN       Zimbabwe    14240168  0.607106   \n",
       "969620  969621    NaN            NaN       Zimbabwe    14240168  0.060711   \n",
       "969621  969622    NaN            NaN       Zimbabwe    14240168  0.607106   \n",
       "969622  969623    NaN            NaN       Zimbabwe    14240168  0.060711   \n",
       "969623  969624    NaN            NaN       Zimbabwe    14240168  0.607106   \n",
       "969624  969625    NaN            NaN       Zimbabwe    14240168  0.060711   \n",
       "969625  969626    NaN            NaN       Zimbabwe    14240168  0.607106   \n",
       "969626  969627    NaN            NaN       Zimbabwe    14240168  0.060711   \n",
       "969627  969628    NaN            NaN       Zimbabwe    14240168  0.607106   \n",
       "969628  969629    NaN            NaN       Zimbabwe    14240168  0.060711   \n",
       "969629  969630    NaN            NaN       Zimbabwe    14240168  0.607106   \n",
       "969630  969631    NaN            NaN       Zimbabwe    14240168  0.060711   \n",
       "969631  969632    NaN            NaN       Zimbabwe    14240168  0.607106   \n",
       "969632  969633    NaN            NaN       Zimbabwe    14240168  0.060711   \n",
       "969633  969634    NaN            NaN       Zimbabwe    14240168  0.607106   \n",
       "969634  969635    NaN            NaN       Zimbabwe    14240168  0.060711   \n",
       "969635  969636    NaN            NaN       Zimbabwe    14240168  0.607106   \n",
       "969636  969637    NaN            NaN       Zimbabwe    14240168  0.060711   \n",
       "969637  969638    NaN            NaN       Zimbabwe    14240168  0.607106   \n",
       "969638  969639    NaN            NaN       Zimbabwe    14240168  0.060711   \n",
       "969639  969640    NaN            NaN       Zimbabwe    14240168  0.607106   \n",
       "\n",
       "              Date          Target  TargetValue  \n",
       "0       2020-01-23  ConfirmedCases            0  \n",
       "1       2020-01-23      Fatalities            0  \n",
       "2       2020-01-24  ConfirmedCases            0  \n",
       "3       2020-01-24      Fatalities            0  \n",
       "4       2020-01-25  ConfirmedCases            0  \n",
       "5       2020-01-25      Fatalities            0  \n",
       "6       2020-01-26  ConfirmedCases            0  \n",
       "7       2020-01-26      Fatalities            0  \n",
       "8       2020-01-27  ConfirmedCases            0  \n",
       "9       2020-01-27      Fatalities            0  \n",
       "10      2020-01-28  ConfirmedCases            0  \n",
       "11      2020-01-28      Fatalities            0  \n",
       "12      2020-01-29  ConfirmedCases            0  \n",
       "13      2020-01-29      Fatalities            0  \n",
       "14      2020-01-30  ConfirmedCases            0  \n",
       "15      2020-01-30      Fatalities            0  \n",
       "16      2020-01-31  ConfirmedCases            0  \n",
       "17      2020-01-31      Fatalities            0  \n",
       "18      2020-02-01  ConfirmedCases            0  \n",
       "19      2020-02-01      Fatalities            0  \n",
       "20      2020-02-02  ConfirmedCases            0  \n",
       "21      2020-02-02      Fatalities            0  \n",
       "22      2020-02-03  ConfirmedCases            0  \n",
       "23      2020-02-03      Fatalities            0  \n",
       "24      2020-02-04  ConfirmedCases            0  \n",
       "25      2020-02-04      Fatalities            0  \n",
       "26      2020-02-05  ConfirmedCases            0  \n",
       "27      2020-02-05      Fatalities            0  \n",
       "28      2020-02-06  ConfirmedCases            0  \n",
       "29      2020-02-06      Fatalities            0  \n",
       "...            ...             ...          ...  \n",
       "969610  2020-05-27  ConfirmedCases           76  \n",
       "969611  2020-05-27      Fatalities            0  \n",
       "969612  2020-05-28  ConfirmedCases           17  \n",
       "969613  2020-05-28      Fatalities            0  \n",
       "969614  2020-05-29  ConfirmedCases            0  \n",
       "969615  2020-05-29      Fatalities            0  \n",
       "969616  2020-05-30  ConfirmedCases           25  \n",
       "969617  2020-05-30      Fatalities            0  \n",
       "969618  2020-05-31  ConfirmedCases            4  \n",
       "969619  2020-05-31      Fatalities            0  \n",
       "969620  2020-06-01  ConfirmedCases           25  \n",
       "969621  2020-06-01      Fatalities            0  \n",
       "969622  2020-06-02  ConfirmedCases            3  \n",
       "969623  2020-06-02      Fatalities            0  \n",
       "969624  2020-06-03  ConfirmedCases           16  \n",
       "969625  2020-06-03      Fatalities            0  \n",
       "969626  2020-06-04  ConfirmedCases           15  \n",
       "969627  2020-06-04      Fatalities            0  \n",
       "969628  2020-06-05  ConfirmedCases           28  \n",
       "969629  2020-06-05      Fatalities            0  \n",
       "969630  2020-06-06  ConfirmedCases           14  \n",
       "969631  2020-06-06      Fatalities            0  \n",
       "969632  2020-06-07  ConfirmedCases            3  \n",
       "969633  2020-06-07      Fatalities            0  \n",
       "969634  2020-06-08  ConfirmedCases            5  \n",
       "969635  2020-06-08      Fatalities            0  \n",
       "969636  2020-06-09  ConfirmedCases           27  \n",
       "969637  2020-06-09      Fatalities            0  \n",
       "969638  2020-06-10  ConfirmedCases            6  \n",
       "969639  2020-06-10      Fatalities            0  \n",
       "\n",
       "[969640 rows x 9 columns]"
      ]
     },
     "execution_count": 47,
     "metadata": {},
     "output_type": "execute_result"
    }
   ],
   "source": [
    "import pandas as pd\n",
    "import numpy as np\n",
    "import matplotlib.pyplot as plt\n",
    "data2 = pd.DataFrame(pd.read_csv('/train.csv'))\n",
    "data2"
   ]
  },
  {
   "cell_type": "code",
   "execution_count": 48,
   "metadata": {
    "id": "48E14EF23CBA42CBA0FDAF3B378DDE2F",
    "jupyter": {},
    "notebookId": "63b2cc49c634be74592b81d2",
    "scrolled": false,
    "slideshow": {
     "slide_type": "slide"
    },
    "tags": []
   },
   "outputs": [],
   "source": [
    "US_data = data2.loc[data2['Country_Region'] == 'US']\n",
    "US_data_cases = US_data.loc[US_data['Target'] == 'ConfirmedCases']\n",
    "US_data_cases = US_data_cases.loc[US_data_cases['Population'] == 324141489] #选择美国的数据进行训练与预测\n"
   ]
  },
  {
   "cell_type": "code",
   "execution_count": 49,
   "metadata": {
    "id": "303E928E20F64718A55B761CC1793C1E",
    "jupyter": {},
    "notebookId": "63b2cc49c634be74592b81d2",
    "scrolled": false,
    "slideshow": {
     "slide_type": "slide"
    },
    "tags": []
   },
   "outputs": [],
   "source": [
    "states_train =['Alabama','Texas','Alaska', 'Arizona', 'Arkansas', \n",
    "       'Colorado', 'Connecticut', 'Delaware', 'District of Columbia',\n",
    "       'Florida', 'Georgia', 'Hawaii', 'Idaho', 'Illinois',\n",
    "       'Indiana', 'Iowa', 'Kansas', 'Kentucky', 'Louisiana', 'Maine',\n",
    "       'Maryland', 'Massachusetts', 'Michigan', 'Minnesota',\n",
    "       'Mississippi', 'Missouri', 'Montana', 'Nebraska', 'Nevada',\n",
    "       'New Hampshire', 'New Jersey', 'New Mexico',\n",
    "       'North Carolina', 'North Dakota', 'Oklahoma', 'Oregon',\n",
    "       'Pennsylvania', 'Rhode Island', 'South Carolina',\n",
    "       'South Dakota', 'Tennessee',  'Utah', 'Vermont','Virginia', 'Washington', 'West Virginia',\n",
    "       'Wisconsin', 'Wyoming']\n",
    "states_test=['California','New York', 'Ohio']#用其他州去预测这三个周\n",
    "df_train = pd.DataFrame(columns =['Date']+states_train)#columns = states\n",
    "df_train[\"Date\"] = US_data_cases[\"Date\"].values\n",
    "\n",
    "df_test = pd.DataFrame(columns =['Date']+states_test)#columns = states\n",
    "df_test[\"Date\"] = US_data_cases[\"Date\"].values"
   ]
  },
  {
   "cell_type": "code",
   "execution_count": 50,
   "metadata": {
    "id": "E70FCFD389A043909B33B6F735234063",
    "jupyter": {},
    "notebookId": "63b2cc49c634be74592b81d2",
    "scrolled": false,
    "slideshow": {
     "slide_type": "slide"
    },
    "tags": []
   },
   "outputs": [],
   "source": [
    "train_data_as_array=[] #将需要的训练数据转换格式，并标准化\n",
    "for state in states_train:\n",
    "    state_data=US_data.loc[US_data['Province_State'] == state]\n",
    "    state_pop = state_data['Population'].max()\n",
    "    state_data_cases = state_data.loc[state_data['Target'] == 'ConfirmedCases']\n",
    "    state_data_cases = state_data_cases.loc[state_data_cases['Population'] == state_pop]\n",
    "    df_train[state]=state_data_cases['TargetValue'].values\n",
    "    max_cases = df_train[state].max()\n",
    "    min_cases = df_train[state].min()\n",
    "    df_train[state]=(df_train[state]-min_cases)/(max_cases-min_cases)\n",
    "    train_data_as_array.append(df_train[state].values)\n",
    "train_data_as_array=np.vstack(train_data_as_array)"
   ]
  },
  {
   "cell_type": "code",
   "execution_count": 51,
   "metadata": {
    "id": "13557F5B4EC146349E37ED6F87F3DDCF",
    "jupyter": {},
    "notebookId": "63b2cc49c634be74592b81d2",
    "scrolled": false,
    "slideshow": {
     "slide_type": "slide"
    },
    "tags": []
   },
   "outputs": [],
   "source": [
    "test_data_as_array=[] #将需要的测试数据转换格式，并标准化\n",
    "for state in states_test:\n",
    "    state_data=US_data.loc[US_data['Province_State'] == state]\n",
    "    state_pop = state_data['Population'].max()\n",
    "    state_data_cases = state_data.loc[state_data['Target'] == 'ConfirmedCases']\n",
    "    state_data_cases = state_data_cases.loc[state_data_cases['Population'] == state_pop]\n",
    "    df_test[state]=state_data_cases['TargetValue'].values\n",
    "    max_cases = df_test[state].max()\n",
    "    min_cases = df_test[state].min()\n",
    "    df_test[state]=(df_test[state]-min_cases)/(max_cases-min_cases)\n",
    "    test_data_as_array.append(df_test[state].values)\n",
    "test_data_as_array=np.vstack(test_data_as_array)"
   ]
  },
  {
   "cell_type": "markdown",
   "metadata": {
    "id": "B034F9FC81B1421FA79A3827DC35861D",
    "jupyter": {},
    "notebookId": "63b2cc49c634be74592b81d2",
    "scrolled": false,
    "slideshow": {
     "slide_type": "slide"
    },
    "tags": []
   },
   "source": [
    "# Seq2Seq实现对新冠数据45天的预测"
   ]
  },
  {
   "cell_type": "code",
   "execution_count": 52,
   "metadata": {
    "id": "BB901F07606746D5A8FF7AFC2EBC11BE",
    "jupyter": {},
    "notebookId": "63b2cc49c634be74592b81d2",
    "scrolled": false,
    "slideshow": {
     "slide_type": "slide"
    },
    "tags": []
   },
   "outputs": [],
   "source": [
    "import torch\n",
    "from sklearn.preprocessing import MinMaxScaler\n",
    "\n",
    "scaler = MinMaxScaler(feature_range=(-1, 1))\n",
    "maxval = seasons[0:-1].max()\n",
    "minval = seasons[0:-1].min()\n",
    "scaleddata = scaler.fit_transform(seasons.reshape(-1, 1)) #对数据进行标准化操作\n",
    "full_data = torch.FloatTensor(scaleddata).view(-1)\n",
    "train_data = full_data[:-52] #移除最后一周期数据"
   ]
  },
  {
   "cell_type": "code",
   "execution_count": 53,
   "metadata": {
    "id": "08F708B283504CA1BAEC55169829E7FE",
    "jupyter": {},
    "notebookId": "63b2cc49c634be74592b81d2",
    "scrolled": false,
    "slideshow": {
     "slide_type": "slide"
    },
    "tags": []
   },
   "outputs": [],
   "source": [
    "from keras.models import Model\n",
    "from keras.layers import Input, LSTM, Dense\n",
    "from keras.optimizers import Adam\n",
    "import warnings\n",
    "warnings.filterwarnings(\"ignore\")\n",
    "\n",
    "\n",
    "latent_dim = 50 # LSTM hidden units\n",
    "dropout = .20 \n",
    "\n",
    "encoder_inputs = Input(shape=(None, 1)) \n",
    "encoder = LSTM(latent_dim, dropout=dropout, return_state=True)\n",
    "encoder_outputs, state_h, state_c = encoder(encoder_inputs)\n",
    "\n",
    "encoder_states = [state_h, state_c]\n",
    "\n",
    "decoder_inputs = Input(shape=(None, 1)) \n",
    "\n",
    "decoder_lstm = LSTM(latent_dim, dropout=dropout, return_sequences=True, return_state=True)\n",
    "decoder_outputs, _, _ = decoder_lstm(decoder_inputs,initial_state=encoder_states)\n",
    "\n",
    "decoder_dense = Dense(1) \n",
    "decoder_outputs = decoder_dense(decoder_outputs)\n",
    "\n",
    "model_covid = Model([encoder_inputs, decoder_inputs], decoder_outputs) #创建模型"
   ]
  },
  {
   "cell_type": "code",
   "execution_count": 54,
   "metadata": {
    "id": "92285318FC9C4D9A9272EB7CA797696D",
    "jupyter": {},
    "notebookId": "63b2cc49c634be74592b81d2",
    "scrolled": false,
    "slideshow": {
     "slide_type": "slide"
    },
    "tags": []
   },
   "outputs": [],
   "source": [
    "def create_encoder_target_pairs(data):\n",
    "    e_data = []\n",
    "    t_data = []\n",
    "    if len(data)!=140: #每州数据的时间长度为140，因此如果data长140，是一个州的数据，否则是多个州数据，维度加1\n",
    "        for i in range(len(data)):\n",
    "            e_data.append(data[i][0:-45])\n",
    "            t_data.append(data[i][-45:])\n",
    "    else:\n",
    "        e_data.append(data[0:-45])\n",
    "        t_data.append(data[-45:])\n",
    "    return [np.array(e_data),np.array(t_data)]"
   ]
  },
  {
   "cell_type": "code",
   "execution_count": 55,
   "metadata": {
    "id": "77C3FC4D80B84FC399CB10D1123080F7",
    "jupyter": {},
    "notebookId": "63b2cc49c634be74592b81d2",
    "scrolled": false,
    "slideshow": {
     "slide_type": "slide"
    },
    "tags": []
   },
   "outputs": [],
   "source": [
    "[e_data,t_data]=create_encoder_target_pairs(train_data_as_array)"
   ]
  },
  {
   "cell_type": "code",
   "execution_count": 56,
   "metadata": {
    "id": "7EC0447188D14012B9ED094CF909E18B",
    "jupyter": {},
    "notebookId": "63b2cc49c634be74592b81d2",
    "scrolled": false,
    "slideshow": {
     "slide_type": "slide"
    },
    "tags": []
   },
   "outputs": [],
   "source": [
    "def transform_series_encode(series_array): #对数据进行标准化和数据结构的修改\n",
    "    series_mean = series_array.mean(axis=1).reshape(-1,1) \n",
    "    series_array = series_array.reshape((series_array.shape[0],series_array.shape[1], 1))\n",
    "    \n",
    "    return series_array, series_mean\n",
    "\n",
    "def transform_series_decode(series_array, encode_series_mean):\n",
    "    series_array = series_array - np.zeros([len(encode_series_mean),1])#encode_series_mean\n",
    "    series_array = series_array.reshape((series_array.shape[0],series_array.shape[1], 1))\n",
    "    \n",
    "    return series_array"
   ]
  },
  {
   "cell_type": "code",
   "execution_count": 57,
   "metadata": {
    "id": "408FE9C9F7484600ADBA954C2631DE2D",
    "jupyter": {},
    "notebookId": "63b2cc49c634be74592b81d2",
    "scrolled": false,
    "slideshow": {
     "slide_type": "slide"
    },
    "tags": []
   },
   "outputs": [],
   "source": [
    "batch_size = 2**11\n",
    "epochs = 100\n",
    "\n",
    "encoder_input_data = e_data\n",
    "encoder_input_data, encode_series_mean = transform_series_encode(encoder_input_data)\n",
    "\n",
    "decoder_target_data = t_data\n",
    "                                            \n",
    "decoder_target_data = transform_series_decode(decoder_target_data, encode_series_mean)\n",
    "\n",
    "decoder_input_data = np.zeros(decoder_target_data.shape)\n",
    "decoder_input_data[:,1:,0] = decoder_target_data[:,:-1,0]\n",
    "decoder_input_data[:,0,0] = encoder_input_data[:,-1,0]\n",
    "\n",
    "model_covid.compile(Adam(), loss='mean_absolute_error') #设置模型优化器\n",
    "history = model_covid.fit([encoder_input_data, decoder_input_data], decoder_target_data,\n",
    "                     batch_size=batch_size,\n",
    "                     epochs=epochs,\n",
    "                     validation_split=0.2,verbose=0);"
   ]
  },
  {
   "cell_type": "code",
   "execution_count": 58,
   "metadata": {
    "id": "66413DEC06D24ADB97C36197B761157E",
    "jupyter": {},
    "notebookId": "63b2cc49c634be74592b81d2",
    "scrolled": false,
    "slideshow": {
     "slide_type": "slide"
    },
    "tags": []
   },
   "outputs": [
    {
     "data": {
      "text/html": [
       "<img src=\"https://cdn.kesci.com/upload/rt/66413DEC06D24ADB97C36197B761157E/rnv2vnzpku.png\">"
      ],
      "text/plain": [
       "<Figure size 432x288 with 1 Axes>"
      ]
     },
     "execution_count": null,
     "metadata": {
      "needs_background": "light"
     },
     "output_type": "display_data"
    }
   ],
   "source": [
    "plt.plot(history.history['loss'])\n",
    "plt.plot(history.history['val_loss'])\n",
    "\n",
    "plt.xlabel('Epoch')\n",
    "plt.ylabel('Mean Absolute Error Loss')\n",
    "plt.title('Loss Over Time')\n",
    "plt.legend(['Train','Valid'])\n",
    "plt.show()"
   ]
  },
  {
   "cell_type": "code",
   "execution_count": 59,
   "metadata": {
    "id": "E518AE0FFB114A439049967C60EC2916",
    "jupyter": {},
    "notebookId": "63b2cc49c634be74592b81d2",
    "scrolled": false,
    "slideshow": {
     "slide_type": "slide"
    },
    "tags": []
   },
   "outputs": [],
   "source": [
    "encoder_model = Model(encoder_inputs, encoder_states)\n",
    "\n",
    "decoder_state_input_h = Input(shape=(latent_dim,))\n",
    "decoder_state_input_c = Input(shape=(latent_dim,))\n",
    "decoder_states_inputs = [decoder_state_input_h, decoder_state_input_c]\n",
    "\n",
    "decoder_outputs, state_h, state_c = decoder_lstm(decoder_inputs, initial_state=decoder_states_inputs)\n",
    "decoder_states = [state_h, state_c]\n",
    "\n",
    "decoder_outputs = decoder_dense(decoder_outputs)\n",
    "decoder_model = Model([decoder_inputs] + decoder_states_inputs,\n",
    "                      [decoder_outputs] + decoder_states)\n",
    "\n",
    "def decode_sequence(input_seq,pred_steps):\n",
    "    \n",
    "    states_value = encoder_model.predict(input_seq)\n",
    "\n",
    "    target_seq = np.zeros((1, 1, 1))\n",
    "    target_seq[0, 0, 0] = input_seq[0, -1, 0]\n",
    "\n",
    "    decoded_seq = np.zeros((1,pred_steps,1))\n",
    "    \n",
    "    for i in range(pred_steps):\n",
    "        \n",
    "        output, h, c = decoder_model.predict([target_seq] + states_value)\n",
    "        \n",
    "        decoded_seq[0,i,0] = output[0,0,0]\n",
    "\n",
    "        target_seq = np.zeros((1, 1, 1))\n",
    "        target_seq[0, 0, 0] = output[0,0,0]\n",
    "\n",
    "        states_value = [h, c]\n",
    "\n",
    "    return decoded_seq"
   ]
  },
  {
   "cell_type": "code",
   "execution_count": 60,
   "metadata": {
    "id": "BCC701EE54E849BAB32C4CDF9CB1F1EA",
    "jupyter": {},
    "notebookId": "63b2cc49c634be74592b81d2",
    "scrolled": false,
    "slideshow": {
     "slide_type": "slide"
    },
    "tags": []
   },
   "outputs": [],
   "source": [
    "def get_cumulative_data(data):\n",
    "    c_data = np.zeros((len(data),1))\n",
    "    c_data[0]=data[0]\n",
    "    for i in range(1,len(data)):\n",
    "        c_data[i]=c_data[i-1]+data[i]\n",
    "    return c_data\n",
    "\n",
    "def get_cumulative_data_preds(edata, tdata):\n",
    "    c_edata = get_cumulative_data(edata)\n",
    "    c_data = np.zeros((len(tdata),1))\n",
    "    c_data[0] = tdata[0]+c_edata[-1]\n",
    "    for i in range(1,len(tdata)):\n",
    "        c_data[i]=c_data[i-1]+tdata[i]\n",
    "    return c_data\n",
    "def get_rolling_average(edata, tdata, numsteps):\n",
    "    c = 0\n",
    "    pred_steps=numsteps\n",
    "    rolling_preds=[edata[-1][-1]]\n",
    "    for i in range(len(tdata[0])):\n",
    "        encoder_input_data = np.array([np.append(edata[0],tdata[0][0:c])])\n",
    "        encoder_input_data, encode_series_mean = transform_series_encode(encoder_input_data)\n",
    "    \n",
    "        decoder_target_data = [t_data[0][c:c+pred_steps]]\n",
    "        decoder_target_data = transform_series_decode(decoder_target_data, encode_series_mean)\n",
    "    \n",
    "        rolling_preds= np.append(rolling_preds,np.mean(decode_sequence(encoder_input_data,pred_steps)))\n",
    "        c=c+1\n",
    "    target = np.append([edata[-1][-1]],tdata[0])\n",
    "    rolling_data = pd.Series(target).rolling(window = numsteps)\n",
    "    rolling_mean = rolling_data.mean()\n",
    "    return rolling_preds, target, rolling_mean"
   ]
  },
  {
   "cell_type": "code",
   "execution_count": 61,
   "metadata": {
    "id": "44F98E89C0E044A4A043D185AE5EDFD9",
    "jupyter": {},
    "notebookId": "63b2cc49c634be74592b81d2",
    "scrolled": false,
    "slideshow": {
     "slide_type": "slide"
    },
    "tags": []
   },
   "outputs": [],
   "source": [
    "def predict_and_plot(e_data, t_data, enc_tail_len=len(e_data[0])):\n",
    "    pred_steps=len(t_data[0])\n",
    "    encoder_input_data = e_data\n",
    "    encoder_input_data, encode_series_mean = transform_series_encode(encoder_input_data)\n",
    "\n",
    "    decoder_target_data = t_data\n",
    "    decoder_target_data = transform_series_decode(decoder_target_data, encode_series_mean)\n",
    "    \n",
    "    encode_series = encoder_input_data\n",
    "    pred_series = decode_sequence(encode_series,pred_steps)\n",
    "    \n",
    "    encode_series = encode_series.reshape(-1,1)\n",
    "    pred_series = pred_series.reshape(-1,1)   \n",
    "    \n",
    "    target_series = decoder_target_data.reshape(-1,1) \n",
    "    target_series =np.concatenate([encode_series[-1:],target_series])\n",
    "    \n",
    "    encode_series_tail = encode_series[-enc_tail_len:]\n",
    "    x_encode = encode_series_tail.shape[0]\n",
    "    \n",
    "    #to show continuity\n",
    "    preds = np.zeros((pred_steps+1,1))\n",
    "    preds[0]=encode_series_tail[-1]\n",
    "    preds[1:]=pred_series\n",
    "    \n",
    "    \n",
    "    plt.figure(figsize=(20,6))  \n",
    "    #plt.subplot(1, 2, 1)  \n",
    "    plt.plot(range(x_encode,x_encode+pred_steps+1),target_series,color='green')\n",
    "    plt.plot(range(x_encode,x_encode+pred_steps+1),preds,color='red',linestyle='--')\n",
    "    plt.plot(range(1,x_encode+1),encode_series_tail, color='black')\n",
    "    plt.legend(['Target Series','Predictions'])\n",
    "    \n",
    "    [preds_rolling, target, rolling_mean]=get_rolling_average(e_data, t_data, 7)\n",
    "    #plt.subplot(1, 2, 2) \n",
    "    plt.plot(range(x_encode,x_encode+pred_steps+1),target,color='green', label = 'Target Series')\n",
    "    #plt.plot(range(x_encode,x_encode+pred_steps+1),preds_rolling,color='red',linestyle='--',label = '7-Day Moving Average Predictions' )\n",
    "   # plt.plot(range(x_encode,x_encode+pred_steps+1),rolling_mean,color='m', label='7-Day Moving Average Data')\n",
    "    plt.legend()\n",
    "    plt.plot(range(1,x_encode+1),encode_series_tail, color='black')\n",
    "    return pred_series\n"
   ]
  },
  {
   "cell_type": "code",
   "execution_count": 62,
   "metadata": {
    "id": "AAB0A3E25F774D45B926D09AFE9859C1",
    "jupyter": {},
    "notebookId": "63b2cc49c634be74592b81d2",
    "scrolled": false,
    "slideshow": {
     "slide_type": "slide"
    },
    "tags": []
   },
   "outputs": [
    {
     "data": {
      "text/html": [
       "<img src=\"https://cdn.kesci.com/upload/rt/AAB0A3E25F774D45B926D09AFE9859C1/rnv2vqkaqm.png\">"
      ],
      "text/plain": [
       "<Figure size 1440x432 with 1 Axes>"
      ]
     },
     "execution_count": null,
     "metadata": {
      "needs_background": "light"
     },
     "output_type": "display_data"
    }
   ],
   "source": [
    "[e_data,t_data]=create_encoder_target_pairs(test_data_as_array[0])\n",
    "preds= predict_and_plot(e_data,t_data)\n",
    "plt.suptitle(\"California\")\n",
    "plt.show()"
   ]
  },
  {
   "cell_type": "code",
   "execution_count": 63,
   "metadata": {
    "id": "921A33E516CE4933B381FBC5FC8126C8",
    "jupyter": {},
    "notebookId": "63b2cc49c634be74592b81d2",
    "scrolled": false,
    "slideshow": {
     "slide_type": "slide"
    },
    "tags": []
   },
   "outputs": [
    {
     "data": {
      "text/html": [
       "<img src=\"https://cdn.kesci.com/upload/rt/921A33E516CE4933B381FBC5FC8126C8/rnv2vsy1n7.png\">"
      ],
      "text/plain": [
       "<Figure size 1440x432 with 1 Axes>"
      ]
     },
     "execution_count": null,
     "metadata": {
      "needs_background": "light"
     },
     "output_type": "display_data"
    }
   ],
   "source": [
    "[e_data,t_data]=create_encoder_target_pairs(test_data_as_array[1])\n",
    "preds= predict_and_plot(e_data,t_data)\n",
    "plt.suptitle('New York')\n",
    "plt.show()"
   ]
  },
  {
   "cell_type": "code",
   "execution_count": 64,
   "metadata": {
    "id": "E23267CA4B2642AC82D6252CDE11FAD7",
    "jupyter": {},
    "notebookId": "63b2cc49c634be74592b81d2",
    "scrolled": false,
    "slideshow": {
     "slide_type": "slide"
    },
    "tags": []
   },
   "outputs": [
    {
     "data": {
      "text/html": [
       "<img src=\"https://cdn.kesci.com/upload/rt/E23267CA4B2642AC82D6252CDE11FAD7/rnv2vu75yp.png\">"
      ],
      "text/plain": [
       "<Figure size 1440x432 with 1 Axes>"
      ]
     },
     "execution_count": null,
     "metadata": {
      "needs_background": "light"
     },
     "output_type": "display_data"
    }
   ],
   "source": [
    "[e_data,t_data]=create_encoder_target_pairs(test_data_as_array[2])\n",
    "preds= predict_and_plot(e_data,t_data)\n",
    "plt.suptitle('Ohio')\n",
    "plt.show()"
   ]
  },
  {
   "cell_type": "markdown",
   "metadata": {
    "id": "F71B2939B2214C129929FFA14AF4D21C",
    "jupyter": {},
    "notebookId": "63b2cc49c634be74592b81d2",
    "scrolled": false,
    "slideshow": {
     "slide_type": "slide"
    },
    "tags": []
   },
   "source": [
    "# 加1： 流感数据LSTM和Seq2Seq对比"
   ]
  },
  {
   "cell_type": "code",
   "execution_count": 65,
   "metadata": {
    "id": "46C1DD6F8C2A46578D26333F7E6C0F2F",
    "jupyter": {},
    "notebookId": "63b2cc49c634be74592b81d2",
    "scrolled": false,
    "slideshow": {
     "slide_type": "slide"
    },
    "tags": []
   },
   "outputs": [],
   "source": [
    "def predict_and_plot(e_data, t_data, enc_tail_len=len(e_data[0])):\n",
    "    pred_steps=len(t_data[0])\n",
    "    encoder_input_data = e_data\n",
    "    encoder_input_data, encode_series_mean = transform_series_encode(encoder_input_data)\n",
    "\n",
    "    decoder_target_data = t_data\n",
    "    decoder_target_data = transform_series_decode(decoder_target_data, encode_series_mean)\n",
    "    \n",
    "    encode_series = encoder_input_data\n",
    "    pred_series = decode_sequence(encode_series,pred_steps)\n",
    "    \n",
    "    encode_series = encode_series.reshape(-1,1)\n",
    "    pred_series = pred_series.reshape(-1,1)   \n",
    "    \n",
    "    target_series = decoder_target_data.reshape(-1,1) \n",
    "    target_series =np.concatenate([encode_series[-1:],target_series])\n",
    "    \n",
    "    encode_series_tail = encode_series[-enc_tail_len:]\n",
    "    x_encode = encode_series_tail.shape[0]\n",
    "    \n",
    "    #to show continuity\n",
    "    preds = np.zeros((pred_steps+1,1))\n",
    "    preds[0]=encode_series_tail[-1]\n",
    "    preds[1:]=pred_series\n",
    "    \n",
    "    \n",
    "    plt.figure(figsize=(20,6))  \n",
    "    plt.subplot(1, 2, 1)  \n",
    "    plt.plot(range(x_encode,x_encode+pred_steps+1),target_series,color='green')\n",
    "    plt.plot(range(x_encode,x_encode+pred_steps+1),preds,color='red',linestyle='--')\n",
    "    plt.plot(range(1,x_encode+1),encode_series_tail, color='black')\n",
    "    plt.legend(['Target Series','Predictions'])\n",
    "    \n",
    "    [preds_rolling, target, rolling_mean]=get_rolling_average(e_data, t_data, 7)\n",
    "    plt.subplot(1, 2, 2) \n",
    "    plt.plot(range(x_encode,x_encode+pred_steps+1),target,color='green', label = 'Target Series')\n",
    "    plt.plot(range(x_encode,x_encode+pred_steps+1),preds_rolling,color='red',linestyle='--',label = '7-Day Moving Average Predictions' )\n",
    "    plt.plot(range(x_encode,x_encode+pred_steps+1),rolling_mean,color='m', label='7-Day Moving Average Data')\n",
    "    plt.legend()\n",
    "    plt.plot(range(1,x_encode+1),encode_series_tail, color='black')\n",
    "    return pred_series\n"
   ]
  },
  {
   "cell_type": "code",
   "execution_count": 66,
   "metadata": {
    "id": "F58A73E7C3B6486E9487FBABE994165A",
    "jupyter": {},
    "notebookId": "63b2cc49c634be74592b81d2",
    "scrolled": false,
    "slideshow": {
     "slide_type": "slide"
    },
    "tags": []
   },
   "outputs": [
    {
     "data": {
      "text/html": [
       "<img src=\"https://cdn.kesci.com/upload/rt/F58A73E7C3B6486E9487FBABE994165A/rnv2vw5yyb.png\">"
      ],
      "text/plain": [
       "<Figure size 1440x432 with 2 Axes>"
      ]
     },
     "execution_count": null,
     "metadata": {
      "needs_background": "light"
     },
     "output_type": "display_data"
    }
   ],
   "source": [
    "[e_data,t_data]=create_encoder_target_pairs(test_data_as_array[0])\n",
    "preds= predict_and_plot(e_data,t_data)\n",
    "plt.suptitle(\"California\")\n",
    "plt.show()"
   ]
  },
  {
   "cell_type": "code",
   "execution_count": 67,
   "metadata": {
    "id": "0F90F5337C5C4A5DAFBCF65C73270FC8",
    "jupyter": {},
    "notebookId": "63b2cc49c634be74592b81d2",
    "scrolled": true,
    "slideshow": {
     "slide_type": "slide"
    },
    "tags": []
   },
   "outputs": [
    {
     "data": {
      "text/html": [
       "<img src=\"https://cdn.kesci.com/upload/rt/0F90F5337C5C4A5DAFBCF65C73270FC8/rnv2vydtx6.png\">"
      ],
      "text/plain": [
       "<Figure size 1440x432 with 2 Axes>"
      ]
     },
     "execution_count": null,
     "metadata": {
      "needs_background": "light"
     },
     "output_type": "display_data"
    }
   ],
   "source": [
    "[e_data,t_data]=create_encoder_target_pairs(test_data_as_array[1])\n",
    "preds= predict_and_plot(e_data,t_data)\n",
    "plt.suptitle('New York')\n",
    "plt.show()"
   ]
  },
  {
   "cell_type": "code",
   "execution_count": 68,
   "metadata": {
    "id": "640011CB843647848536B61E8E093B67",
    "jupyter": {},
    "notebookId": "63b2cc49c634be74592b81d2",
    "scrolled": false,
    "slideshow": {
     "slide_type": "slide"
    },
    "tags": []
   },
   "outputs": [
    {
     "data": {
      "text/html": [
       "<img src=\"https://cdn.kesci.com/upload/rt/640011CB843647848536B61E8E093B67/rnv2w028dm.png\">"
      ],
      "text/plain": [
       "<Figure size 1440x432 with 2 Axes>"
      ]
     },
     "execution_count": null,
     "metadata": {
      "needs_background": "light"
     },
     "output_type": "display_data"
    }
   ],
   "source": [
    "[e_data,t_data]=create_encoder_target_pairs(test_data_as_array[2])\n",
    "preds= predict_and_plot(e_data,t_data)\n",
    "plt.suptitle('Ohio')\n",
    "plt.show()"
   ]
  },
  {
   "cell_type": "markdown",
   "metadata": {
    "id": "DD19E7BD98F64DD598C065401DCB59A9",
    "jupyter": {},
    "notebookId": "63b2cc49c634be74592b81d2",
    "scrolled": false,
    "slideshow": {
     "slide_type": "slide"
    },
    "tags": []
   },
   "source": [
    "# 加2：流感 ILI 数据 Seq2Seq训练和预测"
   ]
  },
  {
   "cell_type": "code",
   "execution_count": 69,
   "metadata": {
    "id": "52C3EA9C86184DCCA9AA84ADC5A39C78",
    "jupyter": {},
    "notebookId": "63b2cc49c634be74592b81d2",
    "scrolled": false,
    "slideshow": {
     "slide_type": "slide"
    },
    "tags": []
   },
   "outputs": [],
   "source": [
    "#流感数据\n",
    "#normalize data\n",
    "normalized_seasons=(seasons-seasons.min())/(seasons.max()-seasons.min())\n",
    "\n",
    "from keras.models import Model\n",
    "from keras.layers import Input, LSTM, Dense\n",
    "from keras.optimizers import Adam\n",
    "import warnings\n",
    "warnings.filterwarnings(\"ignore\")\n",
    "\n",
    "\n",
    "latent_dim = 50 # LSTM hidden units\n",
    "dropout = .20 \n",
    "\n",
    "encoder_inputs = Input(shape=(None, 1)) \n",
    "encoder = LSTM(latent_dim, dropout=dropout, return_state=True)\n",
    "encoder_outputs, state_h, state_c = encoder(encoder_inputs)\n",
    "\n",
    "encoder_states = [state_h, state_c]\n",
    "\n",
    "decoder_inputs = Input(shape=(None, 1)) \n",
    "\n",
    "decoder_lstm = LSTM(latent_dim, dropout=dropout, return_sequences=True, return_state=True)\n",
    "decoder_outputs, _, _ = decoder_lstm(decoder_inputs,initial_state=encoder_states)\n",
    "\n",
    "decoder_dense = Dense(1) \n",
    "decoder_outputs = decoder_dense(decoder_outputs)\n",
    "\n",
    "model_flu = Model([encoder_inputs, decoder_inputs], decoder_outputs)"
   ]
  },
  {
   "cell_type": "code",
   "execution_count": 70,
   "metadata": {
    "id": "A8ECF1C473E046A1882EA369F7741730",
    "jupyter": {},
    "notebookId": "63b2cc49c634be74592b81d2",
    "scrolled": false,
    "slideshow": {
     "slide_type": "slide"
    },
    "tags": []
   },
   "outputs": [],
   "source": [
    "encoder_input_data = normalized_seasons[0:-2]\n",
    "encoder_input_data, encode_series_mean = transform_series_encode(encoder_input_data)\n",
    "\n",
    "decoder_target_data = normalized_seasons[-2]\n",
    "decoder_target_data = transform_series_decode(decoder_target_data, encode_series_mean)"
   ]
  },
  {
   "cell_type": "code",
   "execution_count": 72,
   "metadata": {
    "id": "92432BB86658460BA5385D3486FF9EA3",
    "jupyter": {},
    "notebookId": "63b2cc49c634be74592b81d2",
    "scrolled": false,
    "slideshow": {
     "slide_type": "slide"
    },
    "tags": []
   },
   "outputs": [],
   "source": [
    "batch_size = 2**11\n",
    "epochs = 100\n",
    "\n",
    "encoder_input_data = normalized_seasons[0:-2]\n",
    "encoder_input_data, encode_series_mean = transform_series_encode(encoder_input_data)\n",
    "\n",
    "decoder_target_data = normalized_seasons[-2] \n",
    "                                            \n",
    "decoder_target_data = transform_series_decode(decoder_target_data, encode_series_mean)\n",
    "\n",
    "decoder_input_data = np.zeros(decoder_target_data.shape)\n",
    "decoder_input_data[:,1:,0] = decoder_target_data[:,:-1,0]\n",
    "decoder_input_data[:,0,0] = encoder_input_data[:,-1,0]\n",
    "\n",
    "model_flu.compile(Adam(), loss='mean_absolute_error')\n",
    "history = model_flu.fit([encoder_input_data, decoder_input_data], decoder_target_data,\n",
    "                     batch_size=batch_size,\n",
    "                     epochs=epochs,\n",
    "                     validation_split=0.2,verbose=0); #使用模型训练流感数据"
   ]
  },
  {
   "cell_type": "code",
   "execution_count": 73,
   "metadata": {
    "id": "E57221BD8BEB43F69659B2B41050826B",
    "jupyter": {},
    "notebookId": "63b2cc49c634be74592b81d2",
    "scrolled": false,
    "slideshow": {
     "slide_type": "slide"
    },
    "tags": []
   },
   "outputs": [
    {
     "data": {
      "text/html": [
       "<img src=\"https://cdn.kesci.com/upload/rt/E57221BD8BEB43F69659B2B41050826B/rnv2wlx4mh.png\">"
      ],
      "text/plain": [
       "<Figure size 432x288 with 1 Axes>"
      ]
     },
     "execution_count": null,
     "metadata": {
      "needs_background": "light"
     },
     "output_type": "display_data"
    }
   ],
   "source": [
    "plt.plot(history.history['loss'])\n",
    "plt.plot(history.history['val_loss'])\n",
    "\n",
    "plt.xlabel('Epoch')\n",
    "plt.ylabel('Mean Absolute Error Loss')\n",
    "plt.title('Loss Over Time')\n",
    "plt.legend(['Train','Valid'])\n",
    "plt.show()"
   ]
  },
  {
   "cell_type": "code",
   "execution_count": 74,
   "metadata": {
    "id": "1398963814DD45F78C288111348E2BF5",
    "jupyter": {},
    "notebookId": "63b2cc49c634be74592b81d2",
    "scrolled": false,
    "slideshow": {
     "slide_type": "slide"
    },
    "tags": []
   },
   "outputs": [],
   "source": [
    "encoder_model = Model(encoder_inputs, encoder_states)\n",
    "\n",
    "decoder_state_input_h = Input(shape=(latent_dim,))\n",
    "decoder_state_input_c = Input(shape=(latent_dim,))\n",
    "decoder_states_inputs = [decoder_state_input_h, decoder_state_input_c]\n",
    "\n",
    "decoder_outputs, state_h, state_c = decoder_lstm(decoder_inputs, initial_state=decoder_states_inputs)\n",
    "decoder_states = [state_h, state_c]\n",
    "\n",
    "decoder_outputs = decoder_dense(decoder_outputs)\n",
    "decoder_model = Model([decoder_inputs] + decoder_states_inputs,\n",
    "                      [decoder_outputs] + decoder_states)\n",
    "\n",
    "def decode_sequence(input_seq):\n",
    "    \n",
    "    states_value = encoder_model.predict(input_seq)\n",
    "\n",
    "    target_seq = np.zeros((1, 1, 1))\n",
    "    \n",
    "    target_seq[0, 0, 0] = input_seq[0, -1, 0]\n",
    "\n",
    "    decoded_seq = np.zeros((1,pred_steps,1))\n",
    "    \n",
    "    for i in range(pred_steps):\n",
    "        \n",
    "        output, h, c = decoder_model.predict([target_seq] + states_value)\n",
    "        \n",
    "        decoded_seq[0,i,0] = output[0,0,0]\n",
    "\n",
    "        target_seq = np.zeros((1, 1, 1))\n",
    "        target_seq[0, 0, 0] = output[0,0,0]\n",
    "\n",
    "        states_value = [h, c]\n",
    "\n",
    "    return decoded_seq"
   ]
  },
  {
   "cell_type": "code",
   "execution_count": 75,
   "metadata": {
    "id": "DE503BEFACCC4444951DCD8B8C51EA5F",
    "jupyter": {},
    "notebookId": "63b2cc49c634be74592b81d2",
    "scrolled": false,
    "slideshow": {
     "slide_type": "slide"
    },
    "tags": []
   },
   "outputs": [],
   "source": [
    "encoder_input_data = normalized_seasons[0:-1]\n",
    "encoder_input_data, encode_series_mean = transform_series_encode(encoder_input_data)\n",
    "\n",
    "decoder_target_data = normalized_seasons[-1]\n",
    "decoder_target_data = transform_series_decode(decoder_target_data, encode_series_mean)"
   ]
  },
  {
   "cell_type": "code",
   "execution_count": 78,
   "metadata": {
    "id": "8C373199A578472F97DB9648942E7188",
    "jupyter": {},
    "notebookId": "63b2cc49c634be74592b81d2",
    "scrolled": false,
    "slideshow": {
     "slide_type": "slide"
    },
    "tags": []
   },
   "outputs": [
    {
     "data": {
      "text/html": [
       "<img src=\"https://cdn.kesci.com/upload/rt/8C373199A578472F97DB9648942E7188/rnv2wndkqx.png\">"
      ],
      "text/plain": [
       "<Figure size 720x432 with 1 Axes>"
      ]
     },
     "execution_count": null,
     "metadata": {
      "needs_background": "light"
     },
     "output_type": "display_data"
    }
   ],
   "source": [
    "pred_steps=52\n",
    "def predict_and_plot(encoder_input_data, decoder_target_data, sample_ind, enc_tail_len=51):\n",
    "    encode_series = encoder_input_data\n",
    "    pred_series = decode_sequence(encode_series)\n",
    "    \n",
    "    encode_series = encode_series.reshape(-1,1)\n",
    "    pred_series = pred_series.reshape(-1,1)   \n",
    "    target_series = decoder_target_data[sample_ind,:].reshape(-1,1) \n",
    "    target_series =np.concatenate([encode_series[-1:],target_series])\n",
    "    encode_series_tail = encode_series[-enc_tail_len:]\n",
    "    x_encode = encode_series_tail.shape[0]\n",
    "    \n",
    "    #to show continuity\n",
    "    preds = np.zeros((pred_steps+1,1))\n",
    "    preds[0]=encode_series_tail[-1]\n",
    "    preds[1:]=pred_series\n",
    "    \n",
    "    plt.figure(figsize=(10,6))  \n",
    "    plt.plot(range(1,x_encode+1),encode_series_tail, color='black')\n",
    "    plt.plot(range(x_encode,x_encode+pred_steps+1),target_series,color='green')\n",
    "    plt.plot(range(x_encode,x_encode+pred_steps+1),preds,color='red',linestyle='--')\n",
    "    \n",
    "    plt.title('Seq2Seq FLU')\n",
    "    plt.xlabel('Time in Weeks')\n",
    "    plt.ylabel('Normalized Weekly Case Counts')\n",
    "    plt.legend(['Encoding Series','Target Series','Predictions'])\n",
    "    return pred_series\n",
    "preds= predict_and_plot(encoder_input_data, decoder_target_data, 23)"
   ]
  },
  {
   "cell_type": "markdown",
   "metadata": {
    "id": "DD7FF93AF3654037B908B129EFAE5575",
    "jupyter": {},
    "notebookId": "63b2cc49c634be74592b81d2",
    "scrolled": false,
    "slideshow": {
     "slide_type": "slide"
    },
    "tags": []
   },
   "source": [
    "# 加3： ILI 训练， COVID预测"
   ]
  },
  {
   "cell_type": "code",
   "execution_count": 79,
   "metadata": {
    "id": "EE8C522BDA1E420EBB2EC75064809FBA",
    "jupyter": {},
    "notebookId": "63b2cc49c634be74592b81d2",
    "scrolled": false,
    "slideshow": {
     "slide_type": "slide"
    },
    "tags": []
   },
   "outputs": [],
   "source": [
    "[e_data,t_data]=create_encoder_target_pairs(test_data_as_array) # using three states since we want few-shots预测"
   ]
  },
  {
   "cell_type": "code",
   "execution_count": 80,
   "metadata": {
    "id": "8869C1D58319435694F46318C0B6EDB0",
    "jupyter": {},
    "notebookId": "63b2cc49c634be74592b81d2",
    "scrolled": false,
    "slideshow": {
     "slide_type": "slide"
    },
    "tags": []
   },
   "outputs": [],
   "source": [
    "batch_size = 2**11\n",
    "epochs = 100\n",
    "\n",
    "encoder_input_data = e_data\n",
    "encoder_input_data, encode_series_mean = transform_series_encode(encoder_input_data)\n",
    "\n",
    "decoder_target_data = t_data                   \n",
    "decoder_target_data = transform_series_decode(decoder_target_data, encode_series_mean)\n",
    "\n",
    "decoder_input_data = np.zeros(decoder_target_data.shape)\n",
    "decoder_input_data[:,1:,0] = decoder_target_data[:,:-1,0]\n",
    "decoder_input_data[:,0,0] = encoder_input_data[:,-1,0]"
   ]
  },
  {
   "cell_type": "code",
   "execution_count": 81,
   "metadata": {
    "id": "58F14FDD92A24991AA78E31A15891DEC",
    "jupyter": {},
    "notebookId": "63b2cc49c634be74592b81d2",
    "scrolled": false,
    "slideshow": {
     "slide_type": "slide"
    },
    "tags": []
   },
   "outputs": [],
   "source": [
    "history = model_flu.fit([encoder_input_data, decoder_input_data], decoder_target_data, epochs = 100,verbose=0);#模型已经训练了流感数据，现在训练新冠数据"
   ]
  },
  {
   "cell_type": "code",
   "execution_count": 82,
   "metadata": {
    "id": "2B864DF69BF444B9AAA6101CC3D2F336",
    "jupyter": {},
    "notebookId": "63b2cc49c634be74592b81d2",
    "scrolled": false,
    "slideshow": {
     "slide_type": "slide"
    },
    "tags": []
   },
   "outputs": [
    {
     "data": {
      "text/html": [
       "<img src=\"https://cdn.kesci.com/upload/rt/2B864DF69BF444B9AAA6101CC3D2F336/rnv2x4jal8.png\">"
      ],
      "text/plain": [
       "<Figure size 432x288 with 1 Axes>"
      ]
     },
     "execution_count": null,
     "metadata": {
      "needs_background": "light"
     },
     "output_type": "display_data"
    }
   ],
   "source": [
    "plt.plot(history.history['loss'])\n",
    "\n",
    "plt.xlabel('Epoch')\n",
    "plt.ylabel('Mean Absolute Error Loss')\n",
    "plt.title('Loss Over Time')\n",
    "plt.legend(['Train'])\n",
    "plt.show()"
   ]
  },
  {
   "cell_type": "code",
   "execution_count": 83,
   "metadata": {
    "id": "A8BC57D591BD4B78A302945FB17C066E",
    "jupyter": {},
    "notebookId": "63b2cc49c634be74592b81d2",
    "scrolled": false,
    "slideshow": {
     "slide_type": "slide"
    },
    "tags": []
   },
   "outputs": [],
   "source": [
    "encoder_model = Model(encoder_inputs, encoder_states)\n",
    "\n",
    "decoder_state_input_h = Input(shape=(latent_dim,))\n",
    "decoder_state_input_c = Input(shape=(latent_dim,))\n",
    "decoder_states_inputs = [decoder_state_input_h, decoder_state_input_c]\n",
    "\n",
    "decoder_outputs, state_h, state_c = decoder_lstm(decoder_inputs, initial_state=decoder_states_inputs)\n",
    "decoder_states = [state_h, state_c]\n",
    "\n",
    "decoder_outputs = decoder_dense(decoder_outputs)\n",
    "decoder_model = Model([decoder_inputs] + decoder_states_inputs,\n",
    "                      [decoder_outputs] + decoder_states)\n",
    "\n",
    "def decode_sequence(input_seq,pred_steps):\n",
    "    \n",
    "    states_value = encoder_model.predict(input_seq)\n",
    "\n",
    "    target_seq = np.zeros((1, 1, 1))\n",
    "    target_seq[0, 0, 0] = input_seq[0, -1, 0]\n",
    "\n",
    "    decoded_seq = np.zeros((1,pred_steps,1))\n",
    "    \n",
    "    for i in range(pred_steps):\n",
    "        \n",
    "        output, h, c = decoder_model.predict([target_seq] + states_value)\n",
    "        \n",
    "        decoded_seq[0,i,0] = output[0,0,0]\n",
    "\n",
    "        target_seq = np.zeros((1, 1, 1))\n",
    "        target_seq[0, 0, 0] = output[0,0,0]\n",
    "\n",
    "        states_value = [h, c]\n",
    "\n",
    "    return decoded_seq"
   ]
  },
  {
   "cell_type": "code",
   "execution_count": 85,
   "metadata": {
    "id": "DBB93E9E70E044E98B0EA9E5C70F5365",
    "jupyter": {},
    "notebookId": "63b2cc49c634be74592b81d2",
    "scrolled": false,
    "slideshow": {
     "slide_type": "slide"
    },
    "tags": []
   },
   "outputs": [
    {
     "data": {
      "text/html": [
       "<img src=\"https://cdn.kesci.com/upload/rt/DBB93E9E70E044E98B0EA9E5C70F5365/rnv2x7u6m2.png\">"
      ],
      "text/plain": [
       "<Figure size 432x288 with 1 Axes>"
      ]
     },
     "execution_count": null,
     "metadata": {
      "needs_background": "light"
     },
     "output_type": "display_data"
    }
   ],
   "source": [
    "[e_data,t_data]=create_encoder_target_pairs(train_data_as_array[31])\n",
    "[preds_rolling, target, rolling_mean]=get_rolling_average(e_data, t_data, 7)\n",
    "plt.plot(e_data[0], color='black')\n",
    "plt.plot(range(len(e_data[0]),len(e_data[0])+len(preds_rolling)),preds_rolling,color='red',linestyle='--', label='Predictions')\n",
    "plt.plot(range(len(e_data[0]),len(e_data[0])+len(target)),target,color='green', label='Data')\n",
    "plt.plot(range(len(e_data[0]),len(e_data[0])+len(target)),rolling_mean,color='m', label='7-Day Moving Average Data')\n",
    "\n",
    "plt.title(states_train[31])\n",
    "plt.legend()\n",
    "plt.show()"
   ]
  },
  {
   "cell_type": "code",
   "execution_count": 86,
   "metadata": {
    "id": "EF07D51057464DB4A66671AD724BF728",
    "jupyter": {},
    "notebookId": "63b2cc49c634be74592b81d2",
    "scrolled": false,
    "slideshow": {
     "slide_type": "slide"
    },
    "tags": []
   },
   "outputs": [
    {
     "data": {
      "text/html": [
       "<img src=\"https://cdn.kesci.com/upload/rt/EF07D51057464DB4A66671AD724BF728/rnv2x9uaem.png\">"
      ],
      "text/plain": [
       "<Figure size 432x288 with 1 Axes>"
      ]
     },
     "execution_count": null,
     "metadata": {
      "needs_background": "light"
     },
     "output_type": "display_data"
    }
   ],
   "source": [
    "[e_data,t_data]=create_encoder_target_pairs(train_data_as_array[25])\n",
    "[preds, target, rolling_mean]=get_rolling_average(e_data, t_data, 7)\n",
    "plt.plot(e_data[0], color='black')\n",
    "plt.plot(range(len(e_data[0]),len(e_data[0])+len(preds)),preds,color='red',linestyle='--', label='Predictions')\n",
    "plt.plot(range(len(e_data[0]),len(e_data[0])+len(target)),target,color='green', label='Data')\n",
    "plt.plot(range(len(e_data[0]),len(e_data[0])+len(target)),rolling_mean,color='m', label='7-Day Moving Average Data')\n",
    "\n",
    "plt.title(states_train[25])\n",
    "plt.legend()\n",
    "plt.show()"
   ]
  },
  {
   "cell_type": "code",
   "execution_count": 87,
   "metadata": {
    "id": "7DDE854891F44E7B9F0418B02C69ED60",
    "jupyter": {},
    "notebookId": "63b2cc49c634be74592b81d2",
    "scrolled": true,
    "slideshow": {
     "slide_type": "slide"
    },
    "tags": []
   },
   "outputs": [
    {
     "data": {
      "text/html": [
       "<img src=\"https://cdn.kesci.com/upload/rt/7DDE854891F44E7B9F0418B02C69ED60/rnv2xbbv5.png\">"
      ],
      "text/plain": [
       "<Figure size 432x288 with 1 Axes>"
      ]
     },
     "execution_count": null,
     "metadata": {
      "needs_background": "light"
     },
     "output_type": "display_data"
    }
   ],
   "source": [
    "[e_data,t_data]=create_encoder_target_pairs(train_data_as_array[30])\n",
    "[preds, target, rolling_mean]=get_rolling_average(e_data, t_data, 7)\n",
    "plt.plot(e_data[0], color='black')\n",
    "plt.plot(range(len(e_data[0]),len(e_data[0])+len(preds)),preds,color='red',linestyle='--', label='Predictions')\n",
    "plt.plot(range(len(e_data[0]),len(e_data[0])+len(target)),target,color='green', label='Data')\n",
    "plt.plot(range(len(e_data[0]),len(e_data[0])+len(target)),rolling_mean,color='m', label='7-Day Moving Average Data')\n",
    "plt.title(states_train[30])\n",
    "plt.legend()\n",
    "plt.show()"
   ]
  },
  {
   "cell_type": "markdown",
   "metadata": {
    "id": "F38980FB15634DEA859930544E19C2B1",
    "jupyter": {},
    "notebookId": "63b2cc49c634be74592b81d2",
    "scrolled": false,
    "slideshow": {
     "slide_type": "slide"
    },
    "tags": []
   },
   "source": [
    "# 参考资料：\n"
   ]
  },
  {
   "cell_type": "markdown",
   "metadata": {
    "id": "6F54C697D9BE4A71AD9121FE6A5A0A9A",
    "jupyter": {},
    "notebookId": "63b2cc49c634be74592b81d2",
    "scrolled": false,
    "slideshow": {
     "slide_type": "slide"
    },
    "tags": []
   },
   "source": [
    "1. Su, K., & Shlizerman, E. (2019). Dimension Reduction Approach for Interpretability of Sequence to Sequence Recurrent Neural Networks. arXiv preprint arXiv:1905.12176.\n",
    "2. Su, K., Liu, X., & Shlizerman, E. (2020). Predict & cluster: Unsupervised skeleton based action recognition. In Proceedings of the IEEE/CVF Conference on Computer Vision and Pattern Recognition (pp. 9631-9640).\n",
    "3. https://stackabuse.com/time-series-prediction-using-lstm-with-pytorch-in-python/\n",
    "4. https://blog.keras.io/a-ten-minute-introduction-to-sequence-to-sequence-learning-in-keras.html\n",
    "5. https://github.com/JEddy92/TimeSeries_Seq2Seq/blob/master/notebooks/TS_Seq2Seq_Intro.ipynb\n",
    "6. https://www.kaggle.com/c/covid19-global-forecasting-week-5/data?select=test.csv\n",
    "7. https://machinelearningmastery.com/moving-average-smoothing-for-time-series-forecasting-python/\n",
    "8. https://wallethub.com/edu/states-with-the-fewest-coronavirus-restrictions/73818/\n",
    "9. https://towardsdatascience.com/which-models-to-use-for-epidemic-prediction-25b22932c4ca\n"
   ]
  }
 ],
 "metadata": {
  "kernelspec": {
   "display_name": "Python 3 (ipykernel)",
   "language": "python",
   "name": "python3"
  },
  "language_info": {
   "codemirror_mode": {
    "name": "ipython",
    "version": 3
   },
   "file_extension": ".py",
   "mimetype": "text/x-python",
   "name": "python",
   "nbconvert_exporter": "python",
   "pygments_lexer": "ipython3",
   "version": "3.9.12"
  }
 },
 "nbformat": 4,
 "nbformat_minor": 2
}
